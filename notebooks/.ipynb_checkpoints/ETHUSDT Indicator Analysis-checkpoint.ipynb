{
 "cells": [
  {
   "cell_type": "code",
   "execution_count": 1,
   "metadata": {
    "collapsed": true
   },
   "outputs": [],
   "source": [
    "import numpy as np\n",
    "import pandas as pd"
   ]
  },
  {
   "cell_type": "code",
   "execution_count": 2,
   "metadata": {
    "collapsed": true
   },
   "outputs": [],
   "source": [
    "five_min_data_dir = 'eth_usdt/ethusdt_ohlcv_5m.csv'\n",
    "fifteen_min_data_dir = 'eth_usdt/ethusdt_ohlcv_15m.csv'\n",
    "thirty_min_data_dir = 'eth_usdt/ethusdt_ohlcv_15m.csv'"
   ]
  },
  {
   "cell_type": "code",
   "execution_count": 3,
   "metadata": {
    "collapsed": true
   },
   "outputs": [],
   "source": [
    "five_df = pd.read_csv(five_min_data_dir)\n",
    "fifteen_df = pd.read_csv(fifteen_min_data_dir)\n",
    "thirty_df = pd.read_csv(thirty_min_data_dir)"
   ]
  },
  {
   "cell_type": "code",
   "execution_count": 17,
   "metadata": {
    "collapsed": true
   },
   "outputs": [],
   "source": [
    "# Orders df by timestamp in descending order. \n",
    "# Drops rows with null indicator values\n",
    "def clean_df(df):\n",
    "    df['timestamp'] = pd.to_datetime(df['timestamp'])\n",
    "    df = df.sort_values(by=['timestamp'], ascending=False, ignore_index=True)\n",
    "    df = df[df['twocrows_value'].notna()]\n",
    "    df = df[df['xsidegapthreemethods_value'].notna()]\n",
    "    return df\n"
   ]
  },
  {
   "cell_type": "code",
   "execution_count": 66,
   "metadata": {
    "collapsed": true
   },
   "outputs": [],
   "source": [
    "def get_correlation(df):\n",
    "#     price_cols = ['open', 'high', 'low', 'close']\n",
    "#     indicator_df = df.drop(columns=price_cols)\n",
    "    corr_matrix = df.corr()\n",
    "    return corr_matrix\n",
    "#     print(\"HIGH: \", corr_matrix['high'].sort_values(ascending=False))\n",
    "#     print(\"LOW: \", corr_matrix['low'].sort_values(ascending=False))\n",
    "#     print(\"CLOSE: \", corr_matrix['close'].sort_values(ascending=False))\n",
    "    \n",
    "    \n"
   ]
  },
  {
   "cell_type": "code",
   "execution_count": 1,
   "metadata": {
    "scrolled": true
   },
   "outputs": [
    {
     "ename": "NameError",
     "evalue": "name 'clean_df' is not defined",
     "output_type": "error",
     "traceback": [
      "\u001b[1;31m---------------------------------------------------------------------------\u001b[0m",
      "\u001b[1;31mNameError\u001b[0m                                 Traceback (most recent call last)",
      "\u001b[1;32m<ipython-input-1-7d05210cb24b>\u001b[0m in \u001b[0;36m<module>\u001b[1;34m()\u001b[0m\n\u001b[1;32m----> 1\u001b[1;33m \u001b[0mfive_data\u001b[0m \u001b[1;33m=\u001b[0m \u001b[0mclean_df\u001b[0m\u001b[1;33m(\u001b[0m\u001b[0mfive_df\u001b[0m\u001b[1;33m)\u001b[0m\u001b[1;33m\u001b[0m\u001b[0m\n\u001b[0m\u001b[0;32m      2\u001b[0m \u001b[0mget_correlation\u001b[0m\u001b[1;33m(\u001b[0m\u001b[0mfive_data\u001b[0m\u001b[1;33m)\u001b[0m\u001b[1;33m.\u001b[0m\u001b[0mhead\u001b[0m\u001b[1;33m(\u001b[0m\u001b[1;36m4\u001b[0m\u001b[1;33m)\u001b[0m\u001b[1;33m\u001b[0m\u001b[0m\n",
      "\u001b[1;31mNameError\u001b[0m: name 'clean_df' is not defined"
     ]
    }
   ],
   "source": [
    "five_data = clean_df(five_df)\n",
    "get_correlation(five_data).head(4)"
   ]
  },
  {
   "cell_type": "code",
   "execution_count": null,
   "metadata": {
    "collapsed": true
   },
   "outputs": [],
   "source": []
  }
 ],
 "metadata": {
  "kernelspec": {
   "display_name": "Python 3",
   "language": "python",
   "name": "python3"
  },
  "language_info": {
   "codemirror_mode": {
    "name": "ipython",
    "version": 3
   },
   "file_extension": ".py",
   "mimetype": "text/x-python",
   "name": "python",
   "nbconvert_exporter": "python",
   "pygments_lexer": "ipython3",
   "version": "3.6.3"
  }
 },
 "nbformat": 4,
 "nbformat_minor": 2
}
