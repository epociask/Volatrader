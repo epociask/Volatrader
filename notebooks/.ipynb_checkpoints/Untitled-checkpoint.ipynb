{
 "cells": [
  {
   "cell_type": "code",
   "execution_count": 1,
   "metadata": {},
   "outputs": [],
   "source": [
    "import numpy as np\n",
    "import pandas as pd"
   ]
  },
  {
   "cell_type": "code",
   "execution_count": 2,
   "metadata": {},
   "outputs": [],
   "source": [
    "five_min_data_dir = 'eth_usdt/ethusdt_ohlcv_5m.csv'\n",
    "fifteen_min_data_dir = 'eth_usdt/ethusdt_ohlcv_15m.csv'\n",
    "thirty_min_data_dir = 'eth_usdt/ethusdt_ohlcv_15m.csv'"
   ]
  },
  {
   "cell_type": "code",
   "execution_count": 3,
   "metadata": {},
   "outputs": [],
   "source": [
    "five_df = pd.read_csv(five_min_data_dir)\n",
    "fifteen_df = pd.read_csv(fifteen_min_data_dir)\n",
    "thirty_df = pd.read_csv(thirty_min_data_dir)"
   ]
  },
  {
   "cell_type": "code",
   "execution_count": 17,
   "metadata": {},
   "outputs": [],
   "source": [
    "# Orders df by timestamp in descending order. \n",
    "# Drops rows with null indicator values\n",
    "def clean_df(df):\n",
    "    df['timestamp'] = pd.to_datetime(df['timestamp'])\n",
    "    df = df.sort_values(by=['timestamp'], ascending=False, ignore_index=True)\n",
    "    df = df[df['twocrows_value'].notna()]\n",
    "    df = df[df['xsidegapthreemethods_value'].notna()]\n",
    "    return df\n"
   ]
  },
  {
   "cell_type": "code",
   "execution_count": 44,
   "metadata": {},
   "outputs": [],
   "source": [
    "def get_correlation(df):\n",
    "    price_cols = ['open', 'high', 'low', 'close']\n",
    "    indicator_df = df.drop(columns=price_cols)\n",
    "    corr_matrix = df.corr()\n",
    "    print(\"CLOSE: \", corr_matrix['close'].sort_values(ascending=False))\n",
    "#     print(\"HIGH: \", corr_matrix['high'].sort_values(ascending=False))\n",
    "#     print(\"LOW: \", corr_matrix['low'].sort_values(ascending=False))\n",
    "#     print(\"CLOSE: \", corr_matrix['close'].sort_values(ascending=False))\n",
    "    \n",
    "    \n"
   ]
  },
  {
   "cell_type": "code",
   "execution_count": 45,
   "metadata": {},
   "outputs": [
    {
     "name": "stdout",
     "output_type": "stream",
     "text": [
      "OPEN:  open                       1.000000\n",
      "avgprice_value             0.990114\n",
      "medprice_value             0.987088\n",
      "mult_value                 0.985835\n",
      "typprice_value             0.982410\n",
      "                             ...   \n",
      "tdsequential_tdstsell           NaN\n",
      "thrusting_value                 NaN\n",
      "tristar_value                   NaN\n",
      "uniquethreeriver_value          NaN\n",
      "upsidegaptwocrows_value         NaN\n",
      "Name: open, Length: 180, dtype: float64\n",
      "HIGH:  high                       1.000000\n",
      "medprice_value             0.990873\n",
      "typprice_value             0.990406\n",
      "avgprice_value             0.990117\n",
      "wclprice_value             0.989409\n",
      "                             ...   \n",
      "tdsequential_tdstsell           NaN\n",
      "thrusting_value                 NaN\n",
      "tristar_value                   NaN\n",
      "uniquethreeriver_value          NaN\n",
      "upsidegaptwocrows_value         NaN\n",
      "Name: high, Length: 180, dtype: float64\n",
      "LOW:  low                        1.000000\n",
      "medprice_value             0.992670\n",
      "avgprice_value             0.992031\n",
      "mult_value                 0.991419\n",
      "typprice_value             0.991160\n",
      "                             ...   \n",
      "tdsequential_tdstsell           NaN\n",
      "thrusting_value                 NaN\n",
      "tristar_value                   NaN\n",
      "uniquethreeriver_value          NaN\n",
      "upsidegaptwocrows_value         NaN\n",
      "Name: low, Length: 180, dtype: float64\n",
      "CLOSE:  todeg_value                1.00000\n",
      "close                      1.00000\n",
      "abs_value                  1.00000\n",
      "torad_value                1.00000\n",
      "sqrt_value                 0.99957\n",
      "                            ...   \n",
      "tdsequential_tdstsell          NaN\n",
      "thrusting_value                NaN\n",
      "tristar_value                  NaN\n",
      "uniquethreeriver_value         NaN\n",
      "upsidegaptwocrows_value        NaN\n",
      "Name: close, Length: 180, dtype: float64\n"
     ]
    }
   ],
   "source": [
    "five_data = clean_df(five_df)\n",
    "get_correlation(five_data)"
   ]
  },
  {
   "cell_type": "code",
   "execution_count": null,
   "metadata": {},
   "outputs": [],
   "source": []
  }
 ],
 "metadata": {
  "kernelspec": {
   "display_name": "Python [conda env:ccxt-trader] *",
   "language": "python",
   "name": "conda-env-ccxt-trader-py"
  },
  "language_info": {
   "codemirror_mode": {
    "name": "ipython",
    "version": 3
   },
   "file_extension": ".py",
   "mimetype": "text/x-python",
   "name": "python",
   "nbconvert_exporter": "python",
   "pygments_lexer": "ipython3",
   "version": "3.7.6"
  }
 },
 "nbformat": 4,
 "nbformat_minor": 2
}
